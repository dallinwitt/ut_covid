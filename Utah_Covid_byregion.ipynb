{
 "cells": [
  {
   "cell_type": "markdown",
   "metadata": {},
   "source": [
    "# Introduction \n",
    "The COVID era has come with a deluge of data. While this has been a windfall for data scientists, it also presents them with an opportunity to convey an important message to the population at large. Being particularly concerned with the spread of the disease across my home state, I decided to analyze the data, and visualize it in a way that would help people understand how the spread of the disease has shifted over time, as it has moved from urban areas into farther-flung communities.\n",
    "\n",
    "# 1 Load Data\n",
    "\n",
    "## 1.1 Import Libraries\n",
    "For this project, we will analyse and plot the data using the libraries in the Tidyverse (namely dplyr and ggplot2). We will also use themes from ggthemes.\n"
   ]
  },
  {
   "cell_type": "code",
   "execution_count": null,
   "metadata": {},
   "outputs": [],
   "source": [
    "#import tidyverse library\n",
    "library(tidyverse)\n",
    "library(ggthemes)"
   ]
  },
  {
   "cell_type": "markdown",
   "metadata": {},
   "source": [
    "## 1.2 Import Data\n",
    "We will read in two datasets. The first is the county-level Covid dataset regularly updated by the New York Times, and published on their github page. I have also created a csv which contains population data (from Wikipedia) and a region for each county, which I assigned based on an attempt to arganize counties into groups that gave them similar (same order of magnitude) populations."
   ]
  },
  {
   "cell_type": "code",
   "execution_count": 2,
   "metadata": {},
   "outputs": [],
   "source": [
    "#read in NYT covid data from github\n",
    "US_covid <- read.csv(\"https://github.com/nytimes/covid-19-data/raw/master/us-counties.csv\")"
   ]
  },
  {
   "cell_type": "code",
   "execution_count": 3,
   "metadata": {},
   "outputs": [],
   "source": [
    "#read in csv showing region and population for each county\n",
    "UT_region_pop <- read.csv(\"county_region_pop.csv\") "
   ]
  },
  {
   "cell_type": "markdown",
   "metadata": {},
   "source": [
    "# 2 Data Analysis\n",
    "## 2.1 Data Filtering and Joining\n",
    "I will begin by filtering the NYT dataset to only include data from Utah. I will then join this filtered dataframe with the county frame. I will then group by date and region, so that there is only one value for each region and each day. "
   ]
  },
  {
   "cell_type": "code",
   "execution_count": 4,
   "metadata": {},
   "outputs": [],
   "source": [
    "#filter for only Utah, and inner join with juris_pop df. rename population to county_pop\n",
    "UT_covid <- US_covid %>%\n",
    "    filter(state == \"Utah\") %>%\n",
    "    inner_join(UT_region_pop, by = \"county\")\n",
    "\n",
    "names(UT_covid)[8] <- \"county_pop\"\n",
    "UT_covid$date <- as.POSIXct(UT_covid$date)"
   ]
  },
  {
   "cell_type": "code",
   "execution_count": null,
   "metadata": {},
   "outputs": [],
   "source": [
    "#restructure the df so that there is only one value (sum) for each jursidiction per day\n",
    "by_region <- UT_covid %>%\n",
    "    group_by(date, region) %>%\n",
    "    summarize(cases = sum(cases), deaths = sum(deaths))"
   ]
  },
  {
   "cell_type": "markdown",
   "metadata": {},
   "source": [
    "# 3 Data Visualization\n",
    "## 3.1 Absolute Plot\n",
    "The first plot will be the aboslute plot, which will show the total number of vases in the state since the first case appeared in March 2020. "
   ]
  },
  {
   "cell_type": "code",
   "execution_count": 6,
   "metadata": {},
   "outputs": [],
   "source": [
    "abs_plot <- ggplot(by_region, aes(x = date, y = cases, fill = region))+\n",
    "    geom_area()+\n",
    "    labs(x = \"Date\", \n",
    "         y = \"Number of Cases\", \n",
    "         title = \"Population Proportion \\n Proportion of Cases in Utah \\n Number of Covid Cases in Utah\", \n",
    "         legend = \"Region\", \n",
    "         caption = \"Source: github.com/nytimes/covid-19-data\")+\n",
    "    theme_few()+\n",
    "    theme(\n",
    "        plot.title = element_text(size = 14, hjust = 0.5),\n",
    "        plot.caption = element_text(size = 10, face = 'italic', color = 'gray80', hjust = 0) \n",
    "    )+\n",
    "    scale_fill_tableau()\n",
    "\n",
    "ggsave(\"covid_abs.png\", height = 6, width = 10, units = \"in\")"
   ]
  },
  {
   "cell_type": "markdown",
   "metadata": {},
   "source": [
    "## 3.2 Proportion Plot\n",
    "I will next create a stacked area plot, which we will normalize to 1, so that the color shows the the proportion of cases for each region on a day-to-day basis. "
   ]
  },
  {
   "cell_type": "code",
   "execution_count": 7,
   "metadata": {},
   "outputs": [
    {
     "data": {
      "image/png": "[encoded data removed]",
      "text/plain": [
       "plot without title"
      ]
     },
     "metadata": {
      "image/png": {
       "height": 420,
       "width": 420
      },
      "text/plain": {
       "height": 420,
       "width": 420
      }
     },
     "output_type": "display_data"
    }
   ],
   "source": [
    "prop_plot <- ggplot(by_region, aes(x = date, y = cases, fill = region))+\n",
    "    geom_area(stat = 'identity', position = 'fill', aes(fill = region))+\n",
    "    labs(x = \"Date\", \n",
    "         y = \"Proportion\", \n",
    "         title = \"Proportion of Cases \\n by Region\", \n",
    "         legend = \"Region\", \n",
    "         caption = \"Source: github.com/nytimes/covid-19-data\")+\n",
    "    theme_few()+\n",
    "    theme(\n",
    "        plot.title = element_text(size = 14, hjust = 0.5),\n",
    "#        plot.caption = element_text(size = 10, face = 'italic', color = 'gray80', hjust = 0) \n",
    "    )+\n",
    "    scale_fill_tableau()\n",
    "\n",
    "prop_plot\n",
    "\n",
    "ggsave(\"covid_proportion.png\", height = 6, width = 10, units = \"in\")"
   ]
  },
  {
   "cell_type": "markdown",
   "metadata": {},
   "source": [
    "## 3.3 Population Proportion\n",
    "To provide a point of reference for the proportional case plot, we will also include a simple plot the shows the proportion of the populations of each defined region. We will enetually display this next to the stacked area plot for context. "
   ]
  },
  {
   "cell_type": "code",
   "execution_count": null,
   "metadata": {},
   "outputs": [],
   "source": [
    "UT_pop_prop <- UT_region_pop %>%\n",
    "    group_by(region)%>%\n",
    "    summarize(region_pop = sum(population))"
   ]
  },
  {
   "cell_type": "code",
   "execution_count": 9,
   "metadata": {},
   "outputs": [
    {
     "data": {
      "image/png": "[encoded data removed]",
      "text/plain": [
       "plot without title"
      ]
     },
     "metadata": {
      "image/png": {
       "height": 420,
       "width": 420
      },
      "text/plain": {
       "height": 420,
       "width": 420
      }
     },
     "output_type": "display_data"
    }
   ],
   "source": [
    "pop_prop_col <- ggplot(UT_pop_prop, aes(x = \"\", y = region_pop, fill = region))+\n",
    "    geom_col(width = 1)\n",
    "\n",
    "pop_prop_col+\n",
    "    theme_few()+\n",
    "    labs(title = \"Population Distribution\")+\n",
    "    theme(plot.title = element_text(size = 14, hjust = 0.5))+\n",
    "    scale_fill_tableau()\n",
    "\n",
    "ggsave(\"population_proportion.png\", height = 6, width = 6, units = \"in\")"
   ]
  },
  {
   "cell_type": "code",
   "execution_count": 10,
   "metadata": {},
   "outputs": [
    {
     "data": {
      "image/png": "[encoded data removed]",
      "text/plain": [
       "plot without title"
      ]
     },
     "metadata": {
      "image/png": {
       "height": 420,
       "width": 420
      },
      "text/plain": {
       "height": 420,
       "width": 420
      }
     },
     "output_type": "display_data"
    }
   ],
   "source": [
    "abs_plot"
   ]
  }
 ],
 "metadata": {
  "kernelspec": {
   "display_name": "R",
   "language": "R",
   "name": "ir"
  },
  "language_info": {
   "codemirror_mode": "r",
   "file_extension": ".r",
   "mimetype": "text/x-r-source",
   "name": "R",
   "pygments_lexer": "r",
   "version": "4.0.1"
  }
 },
 "nbformat": 4,
 "nbformat_minor": 4
}
